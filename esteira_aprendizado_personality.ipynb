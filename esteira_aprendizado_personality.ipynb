{
 "cells": [
  {
   "cell_type": "markdown",
   "metadata": {},
   "source": [
    "# Projeto: Esteira de Aprendizado de Máquina\n",
    "## Dataset: Extrovert vs Introvert Behavior Data (personality_dataset.csv)"
   ]
  },
  {
   "cell_type": "markdown",
   "id": "ee96e97a",
   "metadata": {},
   "source": [
    "# 1. Importar"
   ]
  },
  {
   "cell_type": "code",
   "execution_count": 34,
   "metadata": {},
   "outputs": [],
   "source": [
    "import pandas as pd\n",
    "import numpy as np\n",
    "import matplotlib.pyplot as plt\n",
    "from sklearn.model_selection import train_test_split\n",
    "from sklearn.preprocessing import LabelEncoder, StandardScaler\n",
    "from sklearn.ensemble import RandomForestClassifier\n",
    "from sklearn.metrics import confusion_matrix, accuracy_score, ConfusionMatrixDisplay"
   ]
  },
  {
   "cell_type": "markdown",
   "id": "f6da8fdd",
   "metadata": {},
   "source": [
    "# 2. Carregamento da base de dados"
   ]
  },
  {
   "cell_type": "code",
   "execution_count": null,
   "metadata": {},
   "outputs": [],
   "source": [
    "file_path = 'personality_dataset.csv'\n",
    "df = pd.read_csv(file_path)"
   ]
  },
  {
   "cell_type": "markdown",
   "id": "0121969f",
   "metadata": {},
   "source": [
    "# 3. Estatísticas descritivas gerais\n",
    "Exibe estatísticas descritivas e informações gerais do DataFrame"
   ]
  },
  {
   "cell_type": "code",
   "execution_count": null,
   "metadata": {},
   "outputs": [
    {
     "name": "stdout",
     "output_type": "stream",
     "text": [
      "\n",
      "--- Estatísticas Descritivas ---\n",
      "       Time_spent_Alone  Social_event_attendance  Going_outside  \\\n",
      "count       2837.000000              2838.000000    2834.000000   \n",
      "mean           4.505816                 3.963354       3.000000   \n",
      "std            3.479192                 2.903827       2.247327   \n",
      "min            0.000000                 0.000000       0.000000   \n",
      "25%            2.000000                 2.000000       1.000000   \n",
      "50%            4.000000                 3.000000       3.000000   \n",
      "75%            8.000000                 6.000000       5.000000   \n",
      "max           11.000000                10.000000       7.000000   \n",
      "\n",
      "       Friends_circle_size  Post_frequency  \n",
      "count          2823.000000     2835.000000  \n",
      "mean              6.268863        3.564727  \n",
      "std               4.289693        2.926582  \n",
      "min               0.000000        0.000000  \n",
      "25%               3.000000        1.000000  \n",
      "50%               5.000000        3.000000  \n",
      "75%              10.000000        6.000000  \n",
      "max              15.000000       10.000000  \n",
      "\n",
      "--- Informações Gerais ---\n",
      "<class 'pandas.core.frame.DataFrame'>\n",
      "RangeIndex: 2900 entries, 0 to 2899\n",
      "Data columns (total 8 columns):\n",
      " #   Column                     Non-Null Count  Dtype  \n",
      "---  ------                     --------------  -----  \n",
      " 0   Time_spent_Alone           2837 non-null   float64\n",
      " 1   Stage_fear                 2827 non-null   object \n",
      " 2   Social_event_attendance    2838 non-null   float64\n",
      " 3   Going_outside              2834 non-null   float64\n",
      " 4   Drained_after_socializing  2848 non-null   object \n",
      " 5   Friends_circle_size        2823 non-null   float64\n",
      " 6   Post_frequency             2835 non-null   float64\n",
      " 7   Personality                2900 non-null   object \n",
      "dtypes: float64(5), object(3)\n",
      "memory usage: 181.4+ KB\n",
      "None\n"
     ]
    }
   ],
   "source": [
    "print(\"\\n--- Estatísticas Descritivas ---\")\n",
    "print(df.describe())\n",
    "print(\"\\n--- Informações Gerais ---\")\n",
    "print(df.info())"
   ]
  },
  {
   "cell_type": "markdown",
   "id": "09b384c3",
   "metadata": {},
   "source": [
    "# 4. Transformação em colunas: Normalização de colunas numéricas\n",
    "Normaliza as colunas numéricas para melhorar o desempenho do modelo"
   ]
  },
  {
   "cell_type": "code",
   "execution_count": null,
   "id": "a299bcf9",
   "metadata": {},
   "outputs": [],
   "source": [
    "colunas_numericas = [\n",
    "    'Time_spent_Alone',\n",
    "    'Social_event_attendance',\n",
    "    'Going_outside',\n",
    "    'Friends_circle_size',\n",
    "    'Post_frequency'\n",
    "]\n",
    "scaler = StandardScaler()\n",
    "df[colunas_numericas] = scaler.fit_transform(df[colunas_numericas])"
   ]
  },
  {
   "cell_type": "markdown",
   "id": "584d5478",
   "metadata": {},
   "source": [
    "# Transformação das colunas categóricas em numéricas\n",
    "Converte colunas categóricas ('Stage_fear', 'Drained_after_socializing') para valores numéricos"
   ]
  },
  {
   "cell_type": "code",
   "execution_count": null,
   "id": "396f7349",
   "metadata": {},
   "outputs": [],
   "source": [
    "for col in ['Stage_fear', 'Drained_after_socializing']:\n",
    "    le_col = LabelEncoder()\n",
    "    df[col] = le_col.fit_transform(df[col].astype(str))"
   ]
  },
  {
   "cell_type": "markdown",
   "id": "c3e88964",
   "metadata": {},
   "source": [
    "# 5. Transformação em linhas: remoção de duplicatas\n",
    "Remove linhas duplicadas do DataFrame"
   ]
  },
  {
   "cell_type": "code",
   "execution_count": null,
   "metadata": {},
   "outputs": [],
   "source": [
    "df = df.drop_duplicates()"
   ]
  },
  {
   "cell_type": "markdown",
   "id": "96db9d74",
   "metadata": {},
   "source": [
    "# 6. Criação de subconjuntos (treinamento, validação, teste)\n",
    "Separa os dados em conjuntos de treino, validação e teste"
   ]
  },
  {
   "cell_type": "code",
   "execution_count": null,
   "metadata": {},
   "outputs": [],
   "source": [
    "X = df.drop('Personality', axis=1)\n",
    "y = df['Personality']\n",
    "le = LabelEncoder()\n",
    "y = le.fit_transform(y)\n",
    "X_train, X_temp, y_train, y_temp = train_test_split(X, y, test_size=0.3, random_state=42)\n",
    "X_val, X_test, y_val, y_test = train_test_split(X_temp, y_temp, test_size=0.5, random_state=42)"
   ]
  },
  {
   "cell_type": "markdown",
   "id": "73976596",
   "metadata": {},
   "source": [
    "# 7. Treinamento e avaliação do modelo\n",
    "Treina o modelo RandomForest e faz predições no conjunto de validação"
   ]
  },
  {
   "cell_type": "code",
   "execution_count": null,
   "id": "822957d8",
   "metadata": {},
   "outputs": [],
   "source": [
    "# Split dos dados\n",
    "X = df.drop('Personality', axis=1)\n",
    "y = df['Personality']\n",
    "le = LabelEncoder()\n",
    "y = le.fit_transform(y)\n",
    "X_train, X_temp, y_train, y_temp = train_test_split(X, y, test_size=0.3, random_state=42)\n",
    "X_val, X_test, y_val, y_test = train_test_split(X_temp, y_temp, test_size=0.5, random_state=42)\n",
    "\n",
    "# Treinamento e avaliação\n",
    "modelo = RandomForestClassifier(random_state=42)\n",
    "modelo.fit(X_train, y_train)\n",
    "y_val_pred = modelo.predict(X_val)  # <-- ESSA LINHA É OBRIGATÓRIA\n"
   ]
  },
  {
   "cell_type": "markdown",
   "id": "4bf0bd6c",
   "metadata": {},
   "source": [
    "# 8. Matriz de confusão e acurácia\n",
    "Exibe a matriz de confusão e a acurácia do modelo na validação.\n",
    "E matriz de confusão e acurácia."
   ]
  },
  {
   "cell_type": "code",
   "execution_count": 47,
   "id": "cee0b122",
   "metadata": {},
   "outputs": [
    {
     "name": "stdout",
     "output_type": "stream",
     "text": [
      "\n",
      "Acurácia na validação: 91.78%\n"
     ]
    },
    {
     "data": {
      "image/png": "[encoded data removed]",
      "text/plain": [
       "<Figure size 640x480 with 2 Axes>"
      ]
     },
     "metadata": {},
     "output_type": "display_data"
    }
   ],
   "source": [
    "acc = accuracy_score(y_val, y_val_pred)\n",
    "print(f\"\\nAcurácia na validação: {acc*100:.2f}%\")\n",
    "matriz = confusion_matrix(y_val, y_val_pred)\n",
    "ConfusionMatrixDisplay(matriz, display_labels=le.classes_).plot()\n",
    "plt.title(\"Matriz de Confusão - Validação\")\n",
    "plt.show()"
   ]
  },
  {
   "cell_type": "markdown",
   "id": "ce2ec41e",
   "metadata": {},
   "source": [
    "# 9. Predição com o modelo implantado (exemplo)\n",
    "Mostra um exemplo de predição do modelo usando o conjunto de teste"
   ]
  },
  {
   "cell_type": "code",
   "execution_count": 46,
   "metadata": {},
   "outputs": [
    {
     "name": "stdout",
     "output_type": "stream",
     "text": [
      "\n",
      "--- Exemplo de Predição ---\n",
      "Amostra do conjunto de teste:\n",
      "Time_spent_Alone            -1.007830\n",
      "Stage_fear                   0.000000\n",
      "Social_event_attendance      0.701490\n",
      "Going_outside                1.780207\n",
      "Drained_after_socializing    0.000000\n",
      "Friends_circle_size          0.403629\n",
      "Post_frequency                    NaN\n",
      "Name: 351, dtype: float64\n",
      "Classe verdadeira: Extrovert\n",
      "Classe predita: Extrovert\n"
     ]
    }
   ],
   "source": [
    "y_test_pred = modelo.predict(X_test)\n",
    "print(\"\\n--- Exemplo de Predição ---\")\n",
    "print(\"Amostra do conjunto de teste:\")\n",
    "print(X_test.iloc[0])\n",
    "print(f\"Classe verdadeira: {le.inverse_transform([y_test[0]])[0]}\")\n",
    "print(f\"Classe predita: {le.inverse_transform([y_test_pred[0]])[0]}\")"
   ]
  }
 ],
 "metadata": {
  "kernelspec": {
   "display_name": "Python 3",
   "language": "python",
   "name": "python3"
  },
  "language_info": {
   "codemirror_mode": {
    "name": "ipython",
    "version": 3
   },
   "file_extension": ".py",
   "mimetype": "text/x-python",
   "name": "python",
   "nbconvert_exporter": "python",
   "pygments_lexer": "ipython3",
   "version": "3.13.2"
  }
 },
 "nbformat": 4,
 "nbformat_minor": 5
}
